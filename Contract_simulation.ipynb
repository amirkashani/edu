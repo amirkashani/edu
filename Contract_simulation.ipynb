{
 "cells": [
  {
   "cell_type": "code",
   "execution_count": 21,
   "metadata": {
    "collapsed": false
   },
   "outputs": [],
   "source": [
    "import matplotlib.pyplot as plt\n",
    "import numpy as np\n"
   ]
  },
  {
   "cell_type": "code",
   "execution_count": 24,
   "metadata": {
    "collapsed": false
   },
   "outputs": [],
   "source": [
    "plt.subplot(311, title='Happiness as a function of $a$')\n",
    "w=10; c=1; a=np.arange(0,10,.1)\n",
    "U = -np.exp(-(w - c*a**2))\n",
    "plt.plot(a, U)\n",
    "    "
   ]
  },
  {
   "cell_type": "code",
   "execution_count": 2,
   "metadata": {
    "collapsed": true
   },
   "outputs": [],
   "source": [
    "# this part is only ploting the function shape based on different parameters"
   ]
  },
  {
   "cell_type": "code",
   "execution_count": 25,
   "metadata": {
    "collapsed": false
   },
   "outputs": [],
   "source": [
    "\n",
    "plt.subplot(312, title='Happiness as a function of $w$')\n",
    "w=np.arange(0,10,.1); c=1; a=2\n",
    "U = -np.exp(-(w - c*a**2))\n",
    "plt.plot(w, U)\n"
   ]
  },
  {
   "cell_type": "code",
   "execution_count": 26,
   "metadata": {
    "collapsed": true
   },
   "outputs": [],
   "source": [
    "\n",
    "plt.subplot(313, title='Happiness as a function of $c$')\n",
    "w=10; c=np.arange(0,10,.1); a=2\n",
    "U = -np.exp(-(w - c*a**2))\n",
    "plt.plot(c, U)\n",
    "\n",
    "plt.tight_layout()\n",
    "plt.show()"
   ]
  },
  {
   "cell_type": "code",
   "execution_count": 27,
   "metadata": {
    "collapsed": true
   },
   "outputs": [],
   "source": [
    "def optimize_work(t=2, c=0.5):\n",
    "    '''For a given value of t and c, searches the space from s = 0% to s = 100%,\n",
    "    plotting the level of work the employee will choose to maximize his happiness'''\n",
    "    out = []\n",
    "    for s in np.arange(0,1,.01):       # Search s-space\n",
    "        a = np.arange(0,10,.01)        # Worker tries every level of work-ethic\n",
    "        w = (t + s * a).clip(0)        # Worker sees how much he makes for that amount of work\n",
    "                                       # Note: clip(0) ensures that pay is non-negative\n",
    "        U = -np.exp(-(w - c * a**2))   # Worker weighs work against income to evaluate happiness\n",
    "        idx = np.argmax(U)             # Worker picks work-ethic that maximizes happiness \n",
    "        out.append((s, a[idx], U[idx], w[idx]))\n",
    "    s,a,U,w = zip(*out)\n",
    "    plt.plot(s, a, label='t = {}'.format(t), alpha=.5)\n",
    "    plt.legend(loc='best'); plt.xlabel('Commission rate'); plt.ylabel('Work')\n",
    "    \n",
    "optimize_work(t=2.0);\n",
    "optimize_work(t=10.0);\n",
    "plt.title('Work by commision rate for employee with $c=0.5$');\n",
    "plt.show()\n"
   ]
  },
  {
   "cell_type": "code",
   "execution_count": 28,
   "metadata": {
    "collapsed": true
   },
   "outputs": [],
   "source": [
    "\n",
    "\n",
    "def optimize_profit(t=0, c=0.5, plot=True):\n",
    "    '''For a given value of t and c, searches the space from s = 0% to s = 100%,\n",
    "    plots the profit that the firm will generate based on predicted employee behavior'''\n",
    "    out = []\n",
    "    for s in np.arange(0,1,.01):       # Search s-space\n",
    "        a = np.arange(0,10,.01)        # Worker tries every level of work-ethic\n",
    "        w = (t + s * a).clip(0)        # Worker sees how much he makes for that amount of work\n",
    "                                       # Note: clip(0) ensures that pay is non-negative\n",
    "        U = -np.exp(-(w - c * a**2))   # Worker weighs work against income to evaluate happiness\n",
    "        idx = np.argmax(U)             # Worker picks work-ethic that maximizes happiness \n",
    "        out.append((s, a[idx], U[idx], w[idx]))\n",
    "    s,a,U,w = zip(*out)\n",
    "    profit = np.array(a) - np.array(w) # Firm calculates profit across s-space acocunting for worker behavior\n",
    "    if plot:\n",
    "        plt.plot(s, profit, label='$t = {},\\, c = {}$'.format(t, c))\n",
    "        plt.legend(loc='best'); plt.xlabel('Commission rate'); plt.ylabel('Profit')\n",
    "    optimized_rate = s[np.argmax(profit)]\n",
    "    plt.axvline(optimized_rate, ls='--', lw=1, color='black', )\n",
    "    plt.axhline(0, lw=1, color='black')\n",
    "    return optimized_rate\n",
    "    \n",
    "optimize_profit(.2)\n",
    "optimize_profit(.1)\n",
    "optimize_profit(0.)\n",
    "plt.title('Profit by commision rate for employee with $c=0.5$');\n",
    "plt.show()\n",
    "\n"
   ]
  },
  {
   "cell_type": "code",
   "execution_count": null,
   "metadata": {
    "collapsed": true
   },
   "outputs": [],
   "source": []
  }
 ],
 "metadata": {
  "kernelspec": {
   "display_name": "Python 2",
   "language": "python",
   "name": "python2"
  },
  "language_info": {
   "codemirror_mode": {
    "name": "ipython",
    "version": 2
   },
   "file_extension": ".py",
   "mimetype": "text/x-python",
   "name": "python",
   "nbconvert_exporter": "python",
   "pygments_lexer": "ipython2",
   "version": "2.7.10"
  }
 },
 "nbformat": 4,
 "nbformat_minor": 0
}
