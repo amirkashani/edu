{
 "cells": [
  {
   "cell_type": "code",
   "execution_count": 1,
   "metadata": {
    "collapsed": true
   },
   "outputs": [],
   "source": [
    "from cvxopt import matrix"
   ]
  },
  {
   "cell_type": "code",
   "execution_count": 3,
   "metadata": {
    "collapsed": false
   },
   "outputs": [],
   "source": [
    "a = matrix([1,2,3])"
   ]
  },
  {
   "cell_type": "code",
   "execution_count": 4,
   "metadata": {
    "collapsed": false
   },
   "outputs": [
    {
     "data": {
      "text/plain": [
       "<3x1 matrix, tc='i'>"
      ]
     },
     "execution_count": 4,
     "metadata": {},
     "output_type": "execute_result"
    }
   ],
   "source": [
    "a+a"
   ]
  },
  {
   "cell_type": "code",
   "execution_count": 6,
   "metadata": {
    "collapsed": false
   },
   "outputs": [
    {
     "name": "stdout",
     "output_type": "stream",
     "text": [
      "[ 2]\n",
      "[ 4]\n",
      "[ 6]\n",
      "\n"
     ]
    }
   ],
   "source": [
    "print 2*a"
   ]
  },
  {
   "cell_type": "code",
   "execution_count": 7,
   "metadata": {
    "collapsed": true
   },
   "outputs": [],
   "source": [
    "B = matrix([ [1.0, 2.0], [3.0, 4.0] ])"
   ]
  },
  {
   "cell_type": "code",
   "execution_count": 8,
   "metadata": {
    "collapsed": false
   },
   "outputs": [
    {
     "name": "stdout",
     "output_type": "stream",
     "text": [
      "[ 1.00e+00  3.00e+00]\n",
      "[ 2.00e+00  4.00e+00]\n",
      "\n"
     ]
    }
   ],
   "source": [
    "print B"
   ]
  },
  {
   "cell_type": "code",
   "execution_count": 9,
   "metadata": {
    "collapsed": true
   },
   "outputs": [],
   "source": [
    "from cvxopt import spmatrix"
   ]
  },
  {
   "cell_type": "code",
   "execution_count": 16,
   "metadata": {
    "collapsed": false
   },
   "outputs": [
    {
     "name": "stdout",
     "output_type": "stream",
     "text": [
      "[ 1.00e+00     0    ]\n",
      "[    0      2.00e+00]\n",
      "[    0         0    ]\n",
      "[    0         0    ]\n",
      "\n",
      "[ 1.00e+00  0.00e+00]\n",
      "[ 0.00e+00  2.00e+00]\n",
      "[ 0.00e+00  0.00e+00]\n",
      "[ 0.00e+00  0.00e+00]\n",
      "\n"
     ]
    }
   ],
   "source": [
    "#The spmatrix() function creates a sparse matrix from a (value, row, column) triplet description.\n",
    "D = spmatrix([1., 2.], [0, 1], [0, 1], (4,2))\n",
    "print D\n",
    "print matrix(D)"
   ]
  },
  {
   "cell_type": "code",
   "execution_count": 17,
   "metadata": {
    "collapsed": true
   },
   "outputs": [],
   "source": [
    "from cvxopt import sparse"
   ]
  },
  {
   "cell_type": "code",
   "execution_count": 20,
   "metadata": {
    "collapsed": false
   },
   "outputs": [
    {
     "name": "stdout",
     "output_type": "stream",
     "text": [
      "[ 1.00e+00  3.00e+00  1.00e+00     0    ]\n",
      "[ 2.00e+00  4.00e+00     0      2.00e+00]\n",
      "[ 1.00e+00  3.00e+00     0         0    ]\n",
      "[ 2.00e+00  4.00e+00     0         0    ]\n",
      "\n"
     ]
    }
   ],
   "source": [
    "E = sparse ([[B,B],[D]])\n",
    "print E"
   ]
  },
  {
   "cell_type": "code",
   "execution_count": 23,
   "metadata": {
    "collapsed": false
   },
   "outputs": [
    {
     "name": "stdout",
     "output_type": "stream",
     "text": [
      "[ 1.00e+00  3.00e+00     0         0         0         0    ]\n",
      "[ 2.00e+00  4.00e+00     0         0         0         0    ]\n",
      "[    0         0     -1.00e+00 -3.00e+00     0         0    ]\n",
      "[    0         0     -2.00e+00 -4.00e+00     0         0    ]\n",
      "[    0         0         0         0     -1.00e+00     0    ]\n",
      "[    0         0         0         0         0      2.00e+00]\n",
      "\n"
     ]
    }
   ],
   "source": [
    "from cvxopt import spdiag\n",
    "print(spdiag([B,-B,-1,2]))"
   ]
  },
  {
   "cell_type": "code",
   "execution_count": 28,
   "metadata": {
    "collapsed": false
   },
   "outputs": [
    {
     "name": "stdout",
     "output_type": "stream",
     "text": [
      "[  0   4   8  12]\n",
      "[  1   5   9  13]\n",
      "[  2   6  10  14]\n",
      "[  3   7  11  15]\n",
      "\n"
     ]
    }
   ],
   "source": [
    "from cvxopt import matrix\n",
    "A = matrix(range(16),(4,4))\n",
    "print A"
   ]
  },
  {
   "cell_type": "code",
   "execution_count": 32,
   "metadata": {
    "collapsed": false
   },
   "outputs": [
    {
     "name": "stdout",
     "output_type": "stream",
     "text": [
      "[  0   8]\n",
      "[  1   9]\n",
      "[  2  10]\n",
      "[  3  11]\n",
      "\n"
     ]
    }
   ],
   "source": [
    "print (A[[0,1,2,3],[0,2]])"
   ]
  },
  {
   "cell_type": "code",
   "execution_count": 33,
   "metadata": {
    "collapsed": false
   },
   "outputs": [
    {
     "name": "stdout",
     "output_type": "stream",
     "text": [
      "[  1   5   9  13]\n",
      "\n"
     ]
    }
   ],
   "source": [
    "print(A[1,:])"
   ]
  },
  {
   "cell_type": "code",
   "execution_count": 35,
   "metadata": {
    "collapsed": false
   },
   "outputs": [
    {
     "name": "stdout",
     "output_type": "stream",
     "text": [
      "[ 15  11   7   3]\n",
      "[ 14  10   6   2]\n",
      "[ 13   9   5   1]\n",
      "[ 12   8   4   0]\n",
      "\n"
     ]
    }
   ],
   "source": [
    "print(A[::-1,::-1])"
   ]
  },
  {
   "cell_type": "code",
   "execution_count": 37,
   "metadata": {
    "collapsed": false
   },
   "outputs": [
    {
     "name": "stdout",
     "output_type": "stream",
     "text": [
      "[ -1   4   8  12]\n",
      "[  1  -1   9  13]\n",
      "[  2   6  -1  14]\n",
      "[  3   7  11  -1]\n",
      "\n"
     ]
    }
   ],
   "source": [
    "A[::5] = -1\n",
    "print A"
   ]
  },
  {
   "cell_type": "code",
   "execution_count": 40,
   "metadata": {
    "collapsed": false
   },
   "outputs": [
    {
     "name": "stdout",
     "output_type": "stream",
     "text": [
      "     pcost       dcost       gap    pres   dres   k/t\n",
      " 0:  2.6471e+00 -7.0588e-01  2e+01  8e-01  2e+00  1e+00\n",
      " 1:  3.0726e+00  2.8437e+00  1e+00  1e-01  2e-01  3e-01\n",
      " 2:  2.4891e+00  2.4808e+00  1e-01  1e-02  2e-02  5e-02\n",
      " 3:  2.4999e+00  2.4998e+00  1e-03  1e-04  2e-04  5e-04\n",
      " 4:  2.5000e+00  2.5000e+00  1e-05  1e-06  2e-06  5e-06\n",
      " 5:  2.5000e+00  2.5000e+00  1e-07  1e-08  2e-08  5e-08\n",
      "Optimal solution found.\n"
     ]
    }
   ],
   "source": [
    "# First Chapter: now we are going to solve a Linear Programin system\n",
    "from cvxopt import matrix, solvers\n",
    "A = matrix([ [-1.0, -1.0, 0.0, 1.0], [1.0, -1.0, -1.0, -2.0] ])\n",
    "b = matrix([ 1.0, -2.0, 0.0, 4.0 ])\n",
    "c = matrix([ 2.0, 1.0 ])\n",
    "sol=solvers.lp(c,A,b)"
   ]
  },
  {
   "cell_type": "code",
   "execution_count": 41,
   "metadata": {
    "collapsed": false
   },
   "outputs": [
    {
     "name": "stdout",
     "output_type": "stream",
     "text": [
      "[ 5.00e-01]\n",
      "[ 1.50e+00]\n",
      "\n"
     ]
    }
   ],
   "source": [
    "print(sol['x'])"
   ]
  },
  {
   "cell_type": "code",
   "execution_count": 42,
   "metadata": {
    "collapsed": false
   },
   "outputs": [
    {
     "name": "stdout",
     "output_type": "stream",
     "text": [
      "     pcost       dcost       gap    pres   dres\n",
      " 0:  1.8889e+00  7.7778e-01  1e+00  3e-16  2e+00\n",
      " 1:  1.8769e+00  1.8320e+00  4e-02  2e-16  6e-02\n",
      " 2:  1.8750e+00  1.8739e+00  1e-03  1e-16  5e-04\n",
      " 3:  1.8750e+00  1.8750e+00  1e-05  1e-16  5e-06\n",
      " 4:  1.8750e+00  1.8750e+00  1e-07  3e-16  5e-08\n",
      "Optimal solution found.\n"
     ]
    }
   ],
   "source": [
    "#Second Chapter : Quadratic Objective Function\n",
    "from cvxopt import matrix, solvers\n",
    "Q = 2*matrix([ [2, .5], [.5, 1] ])\n",
    "p = matrix([1.0, 1.0])\n",
    "G = matrix([[-1.0,0.0],[0.0,-1.0]])\n",
    "h = matrix([0.0,0.0])\n",
    "A = matrix([1.0, 1.0], (1,2))\n",
    "b = matrix(1.0)\n",
    "sol=solvers.qp(Q, p, G, h, A, b)"
   ]
  },
  {
   "cell_type": "code",
   "execution_count": 44,
   "metadata": {
    "collapsed": false
   },
   "outputs": [
    {
     "name": "stdout",
     "output_type": "stream",
     "text": [
      "[ 2.50e-01]\n",
      "[ 7.50e-01]\n",
      "\n"
     ]
    }
   ],
   "source": [
    "print(sol['x'])"
   ]
  },
  {
   "cell_type": "code",
   "execution_count": 1,
   "metadata": {
    "collapsed": false
   },
   "outputs": [
    {
     "name": "stderr",
     "output_type": "stream",
     "text": [
      "/home/crh/anaconda2/lib/python2.7/site-packages/matplotlib/font_manager.py:273: UserWarning: Matplotlib is building the font cache using fc-list. This may take a moment.\n",
      "  warnings.warn('Matplotlib is building the font cache using fc-list. This may take a moment.')\n"
     ]
    },
    {
     "data": {
      "image/png": "[encoded data removed]",
      "text/plain": [
       "<matplotlib.figure.Figure at 0xb2ec7dcc>"
      ]
     },
     "metadata": {},
     "output_type": "display_data"
    }
   ],
   "source": [
    "## 3. Least Square and Trade-Off function of LS\n",
    "# Figure 4.11, page 185.\n",
    "# Regularized least-squares.\n",
    "%matplotlib inline\n",
    "from pickle import load\n",
    "from cvxopt import blas, lapack, matrix, solvers\n",
    "solvers.options['show_progress'] = 0\n",
    "\n",
    "data = load(open(\"rls.bin\",'rb'))\n",
    "A, b = data['A'], data['b']\n",
    "m, n = A.size\n",
    "\n",
    "# LS solution\n",
    "xls = +b\n",
    "lapack.gels(+A, xls)\n",
    "xls = xls[:n]\n",
    "\n",
    "# We compute the optimal values of\n",
    "#\n",
    "#     minimize/maximize  || A*x - b ||_2^2\n",
    "#     subject to         x'*x = alpha\n",
    "#\n",
    "# via the duals.\n",
    "#\n",
    "# Lower bound:\n",
    "#\n",
    "#     maximize    -t - u*alpha\n",
    "#     subject to  [u*I, 0; 0, t] + [A, b]'*[A, b] >= 0\n",
    "#\n",
    "# Upper bound:\n",
    "#\n",
    "#     minimize    t + u*alpha\n",
    "#     subject to  [u*I, 0; 0, t] - [A, b]'*[A, b] >= 0.\n",
    "#\n",
    "# Two variables (t, u).\n",
    "\n",
    "G = matrix(0.0, ((n+1)**2, 2))\n",
    "G[-1, 0] = -1.0    # coefficient of t\n",
    "G[: (n+1)**2-1 : n+2, 1] = -1.0    # coefficient of u\n",
    "h = matrix( [ [ A.T * A,  b.T * A ], [ A.T * b, b.T * b ] ] )\n",
    "c = matrix(1.0, (2,1))\n",
    "\n",
    "nopts = 40\n",
    "alpha1 = [2.0/(nopts//2-1) * alpha for alpha in range(nopts//2) ] + \\\n",
    "    [ 2.0 + (15.0 - 2.0)/(nopts//2) * alpha for alpha in\n",
    "        range(1,nopts//2+1) ]\n",
    "lbnds = [ blas.nrm2(b)**2 ]\n",
    "for alpha in alpha1[1:]:\n",
    "    c[1:] = alpha\n",
    "    lbnds += [ -blas.dot(c, solvers.sdp(c, Gs=[G], hs=[h])['x']) ]\n",
    "\n",
    "nopts = 10\n",
    "alpha2 = [ 1.0/(nopts-1) * alpha for alpha in range(nopts) ]\n",
    "ubnds = [ blas.nrm2(b)**2 ]\n",
    "for alpha in alpha2[1:]:\n",
    "    c[1:] = alpha\n",
    "    ubnds += [ blas.dot(c, solvers.sdp(c, Gs=[G], hs=[-h])['x']) ]\n",
    "\n",
    "try: import pylab\n",
    "except ImportError: pass\n",
    "else:\n",
    "    pylab.figure(1, facecolor='w')\n",
    "    pylab.plot(lbnds, alpha1, 'b-', ubnds, alpha2, 'b-')\n",
    "    kmax = max([ k for k in range(len(alpha1)) if alpha1[k] <\n",
    "        blas.nrm2(xls)**2 ])\n",
    "    pylab.plot( [ blas.nrm2(b)**2 ] + lbnds[:kmax] +\n",
    "        [ blas.nrm2(A*xls-b)**2 ], [0.0] + alpha1[:kmax] +\n",
    "        [ blas.nrm2(xls)**2 ], '-', linewidth=2)\n",
    "    pylab.plot([ blas.nrm2(b)**2, blas.nrm2(A*xls-b)**2 ],\n",
    "        [0.0, blas.nrm2(xls)**2], 'bo')\n",
    "    pylab.fill(lbnds[-1::-1] + ubnds + [ubnds[-1]],\n",
    "        alpha1[-1::-1] + alpha2+ [alpha1[-1]], facecolor = '#D0D0D0')\n",
    "    pylab.axis([0, 15, -1.0, 15])\n",
    "    pylab.xlabel('||A*x-b||_2^2')\n",
    "    pylab.ylabel('||x||_2^2')\n",
    "    pylab.grid()\n",
    "    pylab.title('Regularized least-squares (fig. 4.11)')\n",
    "    pylab.show()"
   ]
  },
  {
   "cell_type": "code",
   "execution_count": null,
   "metadata": {
    "collapsed": true
   },
   "outputs": [],
   "source": [
    "#download the data and put it in the same folder you set this notbook to run from.\n"
   ]
  },
  {
   "cell_type": "code",
   "execution_count": 2,
   "metadata": {
    "collapsed": false
   },
   "outputs": [
    {
     "data": {
      "image/png": "[encoded data removed]",
      "text/plain": [
       "<matplotlib.figure.Figure at 0xad71e3ec>"
      ]
     },
     "metadata": {},
     "output_type": "display_data"
    },
    {
     "data": {
      "image/png": "[encoded data removed]",
      "text/plain": [
       "<matplotlib.figure.Figure at 0xad7e022c>"
      ]
     },
     "metadata": {},
     "output_type": "display_data"
    }
   ],
   "source": [
    "# Figure 4.12, page 187.\n",
    "# Risk-return trade-off.\n",
    "\n",
    "from math import sqrt\n",
    "from cvxopt import matrix\n",
    "from cvxopt.blas import dot\n",
    "from cvxopt.solvers import qp, options\n",
    "\n",
    "n = 4\n",
    "S = matrix( [[ 4e-2,  6e-3, -4e-3,   0.0 ],\n",
    "             [ 6e-3,  1e-2,  0.0,    0.0 ],\n",
    "             [-4e-3,  0.0,   2.5e-3, 0.0 ],\n",
    "             [ 0.0,   0.0,   0.0,    0.0 ]] )\n",
    "pbar = matrix([.12, .10, .07, .03])\n",
    "\n",
    "G = matrix(0.0, (n,n))\n",
    "G[::n+1] = -1.0\n",
    "h = matrix(0.0, (n,1))\n",
    "A = matrix(1.0, (1,n))\n",
    "b = matrix(1.0)\n",
    "\n",
    "N = 100\n",
    "mus = [ 10**(5.0*t/N-1.0) for t in range(N) ]\n",
    "options['show_progress'] = False\n",
    "xs = [ qp(mu*S, -pbar, G, h, A, b)['x'] for mu in mus ]\n",
    "returns = [ dot(pbar,x) for x in xs ]\n",
    "risks = [ sqrt(dot(x, S*x)) for x in xs ]\n",
    "\n",
    "try: import pylab\n",
    "except ImportError: pass\n",
    "else:\n",
    "    pylab.figure(1, facecolor='w')\n",
    "    pylab.plot(risks, returns)\n",
    "    pylab.xlabel('standard deviation')\n",
    "    pylab.ylabel('expected return')\n",
    "    pylab.axis([0, 0.2, 0, 0.15])\n",
    "    pylab.title('Risk-return trade-off curve (fig 4.12)')\n",
    "    pylab.yticks([0.00, 0.05, 0.10, 0.15])\n",
    "\n",
    "    pylab.figure(2, facecolor='w')\n",
    "    c1 = [ x[0] for x in xs ]\n",
    "    c2 = [ x[0] + x[1] for x in xs ]\n",
    "    c3 = [ x[0] + x[1] + x[2] for x in xs ]\n",
    "    c4 = [ x[0] + x[1] + x[2] + x[3] for x in xs ]\n",
    "    pylab.fill(risks + [.20], c1 + [0.0], facecolor = '#F0F0F0')\n",
    "    pylab.fill(risks[-1::-1] + risks, c2[-1::-1] + c1,\n",
    "        facecolor = '#D0D0D0')\n",
    "    pylab.fill(risks[-1::-1] + risks, c3[-1::-1] + c2,\n",
    "        facecolor = '#F0F0F0')\n",
    "    pylab.fill(risks[-1::-1] + risks, c4[-1::-1] + c3,\n",
    "        facecolor = '#D0D0D0')\n",
    "    pylab.axis([0.0, 0.2, 0.0, 1.0])\n",
    "    pylab.xlabel('standard deviation')\n",
    "    pylab.ylabel('allocation')\n",
    "    pylab.text(.15,.5,'x1')\n",
    "    pylab.text(.10,.7,'x2')\n",
    "    pylab.text(.05,.7,'x3')\n",
    "    pylab.text(.01,.7,'x4')\n",
    "    pylab.title('Optimal allocations (fig 4.12)')\n",
    "    pylab.show()"
   ]
  },
  {
   "cell_type": "code",
   "execution_count": 3,
   "metadata": {
    "collapsed": false
   },
   "outputs": [
    {
     "data": {
      "image/png": "[encoded data removed]",
      "text/plain": [
       "<matplotlib.figure.Figure at 0xad6a6fac>"
      ]
     },
     "metadata": {},
     "output_type": "display_data"
    }
   ],
   "source": [
    "# Figure 6.2, page 297.\n",
    "# Penalty approximation.\n",
    "#\n",
    "# The problem data are not the same as in the book figure.\n",
    "\n",
    "from cvxopt import lapack, solvers, matrix, spdiag, log, div, normal\n",
    "from cvxopt.modeling import variable, op, max, sum\n",
    "solvers.options['show_progress'] = 0\n",
    "try: import numpy, pylab\n",
    "except ImportError: pylab_installed = False\n",
    "else: pylab_installed = True\n",
    "\n",
    "m, n = 100, 30\n",
    "A = normal(m,n)\n",
    "b = normal(m,1)\n",
    "b /= (1.1 * max(abs(b)))   # Make x = 0 feasible for log barrier.\n",
    "\n",
    "\n",
    "# l1 approximation\n",
    "#\n",
    "# minimize || A*x + b ||_1\n",
    "\n",
    "x = variable(n)\n",
    "op(sum(abs(A*x+b))).solve()\n",
    "x1 = x.value\n",
    "\n",
    "if pylab_installed:\n",
    "    pylab.figure(1, facecolor='w', figsize=(10,10))\n",
    "    pylab.subplot(411)\n",
    "    nbins = 100\n",
    "    bins = [-1.5 + 3.0/(nbins-1)*k for k in range(nbins)]\n",
    "    pylab.hist( A*x1+b , numpy.array(bins))\n",
    "    nopts = 200\n",
    "    xs = -1.5 + 3.0/(nopts-1) * matrix(list(range(nopts)))\n",
    "    pylab.plot(xs, (35.0/1.5) * abs(xs), 'g-')\n",
    "    pylab.axis([-1.5, 1.5, 0, 40])\n",
    "    pylab.ylabel('l1')\n",
    "    pylab.title('Penalty function approximation (fig. 6.2)')\n",
    "\n",
    "\n",
    "\n",
    "# l2 approximation\n",
    "#\n",
    "# minimize || A*x + b ||_2\n",
    "\n",
    "x = matrix(0.0, (m,1))\n",
    "lapack.gels(+A, x)\n",
    "x2 = x[:n]\n",
    "\n",
    "if pylab_installed:\n",
    "    pylab.subplot(412)\n",
    "    pylab.hist(A*x2+b, numpy.array(bins))\n",
    "    pylab.plot(xs, (8.0/1.5**2) * xs**2 , 'g-')\n",
    "    pylab.ylabel('l2')\n",
    "    pylab.axis([-1.5, 1.5, 0, 10])\n",
    "\n",
    "\n",
    "# Deadzone approximation\n",
    "#\n",
    "# minimize sum(max(abs(A*x+b)-0.5, 0.0))\n",
    "\n",
    "x = variable(n)\n",
    "op(sum(max(abs(A*x+b)-0.5, 0.0))).solve()\n",
    "xdz = x.value\n",
    "\n",
    "if pylab_installed:\n",
    "    pylab.subplot(413)\n",
    "    pylab.hist(A*xdz+b, numpy.array(bins))\n",
    "    pylab.plot(xs, 15.0/1.0 * matrix([ max(abs(xk)-0.5, 0.0) for xk\n",
    "        in xs ]), 'g-')\n",
    "    pylab.ylabel('Deadzone')\n",
    "    pylab.axis([-1.5, 1.5, 0, 20])\n",
    "\n",
    "\n",
    "# Log barrier\n",
    "#\n",
    "# minimize -sum (log ( 1.0 - A*x+b)**2)\n",
    "\n",
    "def F(x=None, z=None):\n",
    "    if x is None: return 0, matrix(0.0, (n,1))\n",
    "    y = A*x+b\n",
    "    if max(abs(y)) >= 1.0: return None\n",
    "    f = -sum(log(1.0 - y**2))\n",
    "    gradf = 2.0 * A.T * div(y, 1-y**2)\n",
    "    if z is None: return f, gradf.T\n",
    "    H = A.T * spdiag(2.0 * z[0] * div( 1.0+y**2, (1.0 - y**2)**2 )) * A\n",
    "    return f, gradf.T, H\n",
    "xlb = solvers.cp(F)['x']\n",
    "\n",
    "if pylab_installed:\n",
    "    pylab.subplot(414)\n",
    "    pylab.hist(A*xlb+b, numpy.array(bins))\n",
    "    nopts = 200\n",
    "    pylab.plot(xs, (8.0/1.5**2) * xs**2, 'g--')\n",
    "    xs2 = -0.99999 + (2*0.99999 /(nopts-1)) * matrix(list(range(nopts)))\n",
    "    pylab.plot(xs2, -3.0 * log(1.0 - abs(xs2)**2), 'g-')\n",
    "    pylab.ylabel('Log barrier')\n",
    "    pylab.xlabel('residual')\n",
    "    pylab.axis([-1.5, 1.5, 0, 10])\n",
    "    pylab.show()\n"
   ]
  },
  {
   "cell_type": "code",
   "execution_count": null,
   "metadata": {
    "collapsed": true
   },
   "outputs": [],
   "source": [
    "#for which one is better refer to book by "
   ]
  },
  {
   "cell_type": "code",
   "execution_count": 52,
   "metadata": {
    "collapsed": false
   },
   "outputs": [],
   "source": [
    "#Robust Regression ...\n",
    "# Figure 6.5, page 300.\n",
    "# Robust regression.\n",
    "\n",
    "from cvxopt import solvers, lapack, matrix, spmatrix\n",
    "from pickle import load\n",
    "solvers.options['show_progress'] = 0\n",
    "\n",
    "data = load(open('huber.bin','rb'))\n",
    "u, v = data['u'], data['v']\n",
    "m, n = len(u), 2\n",
    "\n",
    "A = matrix( [m*[1.0], [u]] )\n",
    "b = +v\n",
    "\n",
    "# Least squares solution.\n",
    "xls = +b\n",
    "lapack.gels(+A, xls)\n",
    "xls = xls[:2]\n",
    "\n",
    "\n",
    "# Robust least squares.\n",
    "#\n",
    "# minimize  sum( h( A*x-b ))\n",
    "#\n",
    "# where h(u) = u^2           if |u| <= 1.0\n",
    "#            = 2*(|u| - 1.0) if |u| > 1.0.\n",
    "#\n",
    "# Solve as a QP (see exercise 4.5):\n",
    "#\n",
    "# minimize    (1/2) * u'*u + 1'*v\n",
    "# subject to  -u - v <= A*x-b <= u + v\n",
    "#             0 <= u <= 1\n",
    "#             v >= 0\n",
    "#\n",
    "# Variables  x (n), u (m), v(m)\n",
    "\n",
    "novars = n+2*m\n",
    "P = spmatrix([],[],[], (novars, novars))\n",
    "P[n:n+m,n:n+m] = spmatrix(1.0, range(m), range(m))\n",
    "q = matrix(0.0, (novars,1))\n",
    "q[-m:] = 1.0\n",
    "\n",
    "G = spmatrix([], [], [], (5*m, novars))\n",
    "h = matrix(0.0, (5*m,1))\n",
    "\n",
    "# A*x - b <= u+v\n",
    "G[:m,:n] = A\n",
    "G[:m,n:n+m] = spmatrix(-1.0, range(m), range(m))\n",
    "G[:m,n+m:] = spmatrix(-1.0, range(m), range(m))\n",
    "h[:m] = b\n",
    "\n",
    "# -u - v <= A*x - b\n",
    "G[m:2*m,:n] = -A\n",
    "G[m:2*m,n:n+m] = spmatrix(-1.0, range(m), range(m))\n",
    "G[m:2*m,n+m:] = spmatrix(-1.0, range(m), range(m))\n",
    "h[m:2*m] = -b\n",
    "\n",
    "# u >= 0\n",
    "G[2*m:3*m,n:n+m] = spmatrix(-1.0, range(m), range(m))\n",
    "\n",
    "# u <= 1\n",
    "G[3*m:4*m,n:n+m] = spmatrix(1.0, range(m), range(m))\n",
    "h[3*m:4*m] = 1.0\n",
    "\n",
    "# v >= 0\n",
    "G[4*m:,n+m:] = spmatrix(-1.0, range(m), range(m))\n",
    "\n",
    "xh = solvers.qp(P, q, G, h)['x'][:n]\n",
    "\n",
    "try: import pylab\n",
    "except ImportError: pass\n",
    "else:\n",
    "    pylab.figure(1,facecolor='w')\n",
    "    pylab.plot(u, v,'o',\n",
    "        [-11,11], [xh[0]-11*xh[1], xh[0]+11*xh[1]], '-g',\n",
    "        [-11,11], [xls[0]-11*xls[1], xls[0]+11*xls[1]], '--r',\n",
    "        markerfacecolor='w', markeredgecolor='b')\n",
    "    pylab.axis([-11, 11, -20, 25])\n",
    "    pylab.xlabel('t')\n",
    "    pylab.ylabel('f(t)')\n",
    "    pylab.title('Robust regression (fig. 6.5)')\n",
    "    pylab.show()\n",
    "\n"
   ]
  },
  {
   "cell_type": "code",
   "execution_count": null,
   "metadata": {
    "collapsed": true
   },
   "outputs": [],
   "source": [
    "#Input Design is skipped....\n",
    "#Sparse Regressor is skipped too.\n",
    "# signal smoothing is skipped as well\n",
    "# total variation reconstruction\n",
    "\n",
    "# Figures 6.15 and 6.16, pages 320 and 325.\n",
    "# Stochastic and worst-case robust approximation.\n",
    "\n",
    "# Polynomial and spline fitting.\n",
    "\n",
    "# Figures 6.25 and 6.26, page 342.\n",
    "# Consumer preference analysis.\n",
    "\n",
    "\n",
    "# Figures 7.1, page 355.\n",
    "# Logistic regression.\n",
    "\n",
    "# Figures 7.2 and 7.3, pages 363 and 364.\n",
    "# Maximum entropy distribution.\n",
    "\n",
    "\n",
    "# Figures 7.6 and 7.7, page 383.\n",
    "# Chebyshev bounds.\n"
   ]
  },
  {
   "cell_type": "code",
   "execution_count": 53,
   "metadata": {
    "collapsed": false
   },
   "outputs": [
    {
     "ename": "SyntaxError",
     "evalue": "invalid syntax (<ipython-input-53-d1c33e3da3e8>, line 6)",
     "output_type": "error",
     "traceback": [
      "\u001b[1;36m  File \u001b[1;32m\"<ipython-input-53-d1c33e3da3e8>\"\u001b[1;36m, line \u001b[1;32m6\u001b[0m\n\u001b[1;33m    G = G(:,1:end-1);\u001b[0m\n\u001b[1;37m          ^\u001b[0m\n\u001b[1;31mSyntaxError\u001b[0m\u001b[1;31m:\u001b[0m invalid syntax\n"
     ]
    }
   ],
   "source": [
    "% data generation\n",
    "T = 10; \n",
    "\n",
    "G = ones(T+1);\n",
    "G = tril(G) - diag(diag(G)); \n",
    "G = G(:,1:end-1); \n",
    "H = G; \n",
    "x_0 = 0;\n",
    "x0 = x_0*ones(T+1,1); \n",
    "\n",
    "s = 8;\n",
    "h = 1;\n",
    "b = 4;\n",
    "g = 4;\n",
    "\n",
    "mu = 3*rand(T,1)-1.5; \n",
    "tmp = randn(T)/4;\n",
    "Sigma = tmp*tmp';\n",
    "\n",
    "\n",
    "% Case I: optimal affine controller\n",
    "% ---------------------------------\n",
    "% number of sample paths for w \n",
    "% M = 5000; % used in paper; takes many minutes to run!\n",
    "M = 500;\n",
    "W = -exp(mu*ones(1,M) + sqrtm(Sigma)*randn(T,M));\n",
    "I = eye(T+1); \n",
    "cvx_begin\n",
    "    variable Q(T,T+1) \n",
    "    variable r(T) \n",
    "       \n",
    "    Pxw = (I+H*Q)*G;\n",
    "    Puw = Q*G;\n",
    "    x_tilde = (I + H*Q)*x0 + H*r;\n",
    "    u_tilde = Q*x0 + r;\n",
    "    \n",
    "    x = Pxw*W + x_tilde*ones(1,M);\n",
    "    u = Puw*W + u_tilde*ones(1,M);\n",
    "    minimize(sum(sum(max(h*x(1:end-1,:),-b*x(1:end-1,:))) + max(g*x(end,:),-b*x(end,:)) + sum(abs(s*u))))\n",
    "    Qupper = [Q;zeros(1,T+1)];\n",
    "    Qupper = triu(Qupper) - diag(diag(Qupper));\n",
    "    Qupper == 0\n",
    "cvx_end\n",
    "\n",
    "I = eye(T);\n",
    "F = (I+Q*H)\\Q;\n",
    "u0 = (I+Q*H)\\r;\n",
    "\n",
    "% testing the control laws obtained on new instances\n",
    "%M = 5000; % used in paper\n",
    "M = 200;\n",
    "W = -exp(mu*ones(1,M) + sqrtm(Sigma)*randn(T,M));\n",
    "% Case I: affine controller\n",
    "x = Pxw*W + x_tilde*ones(1,M);\n",
    "u = Puw*W + u_tilde*ones(1,M);\n",
    "cost_affine = (sum(max(h*x(1:end-1,:),-b*x(1:end-1,:))) + max(g*x(end,:),-b*x(end,:)) + sum(abs(s*u)));\n",
    "\n",
    "% Case II: naive greedy controller\n",
    "% --------------------------------\n",
    "cost_naive = zeros(1,M);\n",
    "d_mean = exp(mu+.5*diag(Sigma));\n",
    "for iter =1:M\n",
    "    % simple controller  \n",
    "    xn = [0; d_mean + W(:,iter)]; \n",
    "    un = d_mean - xn(1:end-1);\n",
    "    cost_naive(iter) = sum(max(h*xn(1:end-1),-b*xn(1:end-1))) + max(g*xn(end),-b*xn(end)) + sum(abs(s*un));\n",
    "end\n",
    "\n",
    "% Case III: greedy controller\n",
    "% ---------------------------\n",
    "cost_greedy = zeros(1, M);\n",
    "for iter =1:M\n",
    "    % simple controller \n",
    "    % d_bar(t) is the expected value of d(t) given d(0),...,d(t-1)\n",
    "    d_bar = zeros(T, 1); \n",
    "    d_bar(1) = exp(mu(1) + 0.5*Sigma(1,1));\n",
    "    for t=2:T \n",
    "        v = mu(t) + Sigma(t,1:t-1)*(Sigma(1:t-1,1:t-1)\\(log(-W(1:t-1,iter)) - mu(1:t-1)));\n",
    "        V = Sigma(t,t) - Sigma(t,1:t-1)*(Sigma(1:t-1,1:t-1)\\Sigma(1:t-1,t));\n",
    "        d_bar(t) = exp(v+0.5*V);\n",
    "    end    \n",
    "    xs = [0; d_bar + W(:,iter)]; \n",
    "    us = d_bar - xs(1:end-1);\n",
    "    cost_greedy(iter) = sum(max(h*xs(1:end-1),-b*xs(1:end-1))) + max(g*xs(end),-b*xs(end)) + sum(abs(s*us));\n",
    "end\n",
    "\n",
    "% Case IV: CE-MPC\n",
    "% ---------------\n",
    "cvx_quiet(true);\n",
    "cost_mpc_ce = zeros(1,M); \n",
    "for iter = 1:M\n",
    "    % at each t, replace future d-trajectory with mean of cond. distr.\n",
    "    xce = zeros(T+1,1); \n",
    "    xce(1) = x_0;\n",
    "    uce = zeros(T,1);\n",
    "    for t=1:T \n",
    "        disp(['CE-MPC *** iter = ' num2str(iter) ' t = ' num2str(t)]); \n",
    "        if t>1 \n",
    "            v = mu(t:T) + Sigma(t:T,1:t-1)*(Sigma(1:t-1,1:t-1)\\(log(-W(1:t-1,iter)) - mu(1:t-1)));\n",
    "            V = Sigma(t:T,t:T) - Sigma(t:T,1:t-1)*(Sigma(1:t-1,1:t-1)\\Sigma(1:t-1,t:T));\n",
    "        else \n",
    "            v = mu;\n",
    "            V = Sigma;\n",
    "        end\n",
    "        d_bar = exp(v + 0.5*diag(V));       % mean of conditional distr.\n",
    "        cvx_begin \n",
    "            variable u(T-t+1) \n",
    "            G = ones(T-t+2);\n",
    "            G = tril(G) - diag(diag(G)); \n",
    "            G = G(:,1:end-1); \n",
    "            H = G; \n",
    "            xinit = xce(t)*ones(T-t+2,1); \n",
    "            x = -G*d_bar + H*u + xinit; \n",
    "            minimize sum(max(h*x(1:end-1),-b*x(1:end-1))) + max(g*x(end),-b*x(end)) + sum(abs(s*u))\n",
    "        cvx_end \n",
    "        if isempty(strfind(cvx_status, 'Solved')) \n",
    "            break\n",
    "        end\n",
    "        uce(t) = u(1);\n",
    "        xce(t+1) = xce(t) + uce(t) + W(t,iter);\n",
    "    end  \n",
    "    if isempty(strfind(cvx_status, 'Solved')) \n",
    "        cost_mpc_ce(iter) = NaN;\n",
    "    else \n",
    "        cost_mpc_ce(iter) = sum(max(h*xce(1:end-1),-b*xce(1:end-1))) + max(g*xce(end),-b*xce(end)) + sum(abs(s*uce));\n",
    "    end\n",
    "end \n",
    "\n",
    "% Case V: Compute prescient lower bound \n",
    "% -------------------------------------\n",
    "G = ones(T+1);\n",
    "G = tril(G) - diag(diag(G)); \n",
    "G = G(:,1:end-1); \n",
    "H = G; \n",
    "cost_lb = zeros(1,M); \n",
    "for iter = 1:M\n",
    "    disp(['Lower Bound *** iter = ' num2str(iter) ' t = ' num2str(t)]); \n",
    "    cvx_begin\n",
    "        variable ulb(T) \n",
    "        xlb = G*W(:,iter) + H*ulb;\n",
    "        minimize sum(max(h*xlb(1:end-1),-b*xlb(1:end-1))) + max(g*xlb(end),-b*xlb(end)) + sum(abs(s*ulb))\n",
    "    cvx_end\n",
    "    if isempty(strfind(cvx_status, 'Solved')) \n",
    "        cost_lb(iter) = NaN;\n",
    "    else \n",
    "        cost_lb(iter) = sum(max(h*xlb(1:end-1),-b*xlb(1:end-1))) + max(g*xlb(end),-b*xlb(end)) + sum(abs(s*ulb));\n",
    "    end\n",
    "end\n",
    "\n",
    "% Results\n",
    "% -------\n",
    "disp(['naive: mean ' num2str(mean(cost_naive)) ', std ' num2str(std(cost_naive))]);\n",
    "disp(['greedy: mean ' num2str(mean(cost_greedy)) ', std ' num2str(std(cost_greedy))]);\n",
    "disp(['CE-MPC: mean ' num2str(mean(cost_mpc_ce)) ', std ' num2str(std(cost_mpc_ce))]);\n",
    "disp(['affine: mean ' num2str(mean(cost_affine)) ', std '  num2str(std(cost_affine))]);\n",
    "disp(['lwrbnd: mean ' num2str(mean(cost_lb)) ', std '  num2str(std(cost_lb))]);"
   ]
  },
  {
   "cell_type": "code",
   "execution_count": null,
   "metadata": {
    "collapsed": true
   },
   "outputs": [],
   "source": []
  }
 ],
 "metadata": {
  "kernelspec": {
   "display_name": "Python 2",
   "language": "python",
   "name": "python2"
  },
  "language_info": {
   "codemirror_mode": {
    "name": "ipython",
    "version": 2
   },
   "file_extension": ".py",
   "mimetype": "text/x-python",
   "name": "python",
   "nbconvert_exporter": "python",
   "pygments_lexer": "ipython2",
   "version": "2.7.10"
  }
 },
 "nbformat": 4,
 "nbformat_minor": 0
}
